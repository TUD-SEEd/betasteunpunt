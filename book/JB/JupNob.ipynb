{
 "cells": [
  {
   "cell_type": "markdown",
   "metadata": {},
   "source": [
    "# Jupyter Notebooks\n",
    "\n",
    "Een van de grote voordelen van Jupyter Books via Teachbooks is dat we in de browser kunnen Python kunnen programmeren, zonder dat je iets hoeft te installeren. \n",
    "\n",
    "```{exercise}\n",
    "Probeer het maar eens: druk de {fa}`rocket` rechtsboven in je scherm en wacht tot alles geladen is. Druk vervolgens op run voor de onderstaande cell en kijk wat er gebeurt. \n",
    "\n",
    "Probeer eens de code aan te passen, voorspel wat er zal gebeuren.\n",
    "```"
   ]
  },
  {
   "cell_type": "code",
   "execution_count": null,
   "metadata": {},
   "outputs": [],
   "source": [
    "a = 2 \n",
    "b = 3\n",
    "print(a + b)"
   ]
  },
  {
   "cell_type": "markdown",
   "metadata": {},
   "source": [
    "Ook plotten is mogelijk:"
   ]
  },
  {
   "cell_type": "code",
   "execution_count": null,
   "metadata": {},
   "outputs": [],
   "source": [
    "import numpy as np\n",
    "import matplotlib.pyplot as plt\n",
    "\n",
    "t = np.linspace(0, 2*np.pi, 100)\n",
    "U = 2.0*np.sin(3.0*t)\n",
    "\n",
    "plt.figure()\n",
    "plt.plot(t, U, 'k.')\n",
    "plt.xlabel('$t$(s)')\n",
    "plt.ylabel('$U$(V)')\n",
    "plt.show()\n"
   ]
  },
  {
   "cell_type": "markdown",
   "metadata": {},
   "source": [
    "En zelfs interactieve plots!"
   ]
  },
  {
   "cell_type": "code",
   "execution_count": 7,
   "metadata": {},
   "outputs": [
    {
     "data": {
      "application/vnd.jupyter.widget-view+json": {
       "model_id": "77984e014dd0465ca9c5dc910a324d1f",
       "version_major": 2,
       "version_minor": 0
      },
      "text/plain": [
       "interactive(children=(FloatSlider(value=5.0, description='a', max=10.0), FloatSlider(value=5.0, description='b…"
      ]
     },
     "metadata": {},
     "output_type": "display_data"
    },
    {
     "data": {
      "text/plain": [
       "<function __main__.plot(a, b)>"
      ]
     },
     "execution_count": 7,
     "metadata": {},
     "output_type": "execute_result"
    }
   ],
   "source": [
    "import numpy as np\n",
    "import matplotlib.pyplot as plt\n",
    "from ipywidgets import interact\n",
    "\n",
    "def functie(t, a, b):\n",
    "    return a*np.sin(b*t)\n",
    "\n",
    "t = np.linspace(0, 2*np.pi, 100)\n",
    "def plot(a,b):\n",
    "    U = functie(t, a, b)\n",
    "    plt.figure()\n",
    "    plt.plot(t, U, 'k.')\n",
    "    plt.xlim(0, 2*np.pi)\n",
    "    plt.ylim(-10, 10)\n",
    "    plt.xlabel('$t$(s)')\n",
    "    plt.ylabel('$U$(V)')\n",
    "    plt.show()\n",
    "    return()\n",
    "\n",
    "interact(plot, a=(0.0, 10.0), b=(0.0, 10.0))\n",
    "\n",
    "\n"
   ]
  },
  {
   "cell_type": "code",
   "execution_count": null,
   "metadata": {},
   "outputs": [],
   "source": []
  }
 ],
 "metadata": {
  "kernelspec": {
   "display_name": "base",
   "language": "python",
   "name": "python3"
  },
  "language_info": {
   "codemirror_mode": {
    "name": "ipython",
    "version": 3
   },
   "file_extension": ".py",
   "mimetype": "text/x-python",
   "name": "python",
   "nbconvert_exporter": "python",
   "pygments_lexer": "ipython3",
   "version": "3.10.14"
  }
 },
 "nbformat": 4,
 "nbformat_minor": 2
}
