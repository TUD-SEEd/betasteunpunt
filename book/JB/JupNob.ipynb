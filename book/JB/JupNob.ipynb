{
 "cells": [
  {
   "cell_type": "markdown",
   "metadata": {},
   "source": [
    "# Jupyter Notebooks\n",
    "\n",
    "Een van de grote voordelen van Jupyter Books via Teachbooks is dat we in de browser kunnen Python kunnen programmeren, zonder dat je iets hoeft te installeren. \n",
    "\n",
    "```{exercise}\n",
    "Probeer het maar eens: druk de {fa}`rocket` rechtsboven in je scherm en wacht tot alles geladen is. Druk vervolgens op run voor de onderstaande cell en kijk wat er gebeurt. \n",
    "\n",
    "Probeer eens de code aan te passen, voorspel wat er zal gebeuren.\n",
    "```"
   ]
  },
  {
   "cell_type": "code",
   "execution_count": null,
   "metadata": {},
   "outputs": [],
   "source": [
    "a = 2 \n",
    "b = 3\n",
    "print(a + b)"
   ]
  },
  {
   "cell_type": "markdown",
   "metadata": {},
   "source": [
    "Ook plotten is mogelijk:"
   ]
  },
  {
   "cell_type": "code",
   "execution_count": null,
   "metadata": {},
   "outputs": [],
   "source": [
    "import numpy as np\n",
    "import matplotlib.pyplot as plt\n",
    "\n",
    "t = np.linspace(0, 2*np.pi, 100)\n",
    "U = 2.0*np.sin(3.0*t)\n",
    "\n",
    "plt.figure()\n",
    "plt.plot(t, U, 'k.')\n",
    "plt.xlabel('$t$(s)')\n",
    "plt.ylabel('$U$(V)')\n",
    "plt.show()\n"
   ]
  },
  {
   "cell_type": "markdown",
   "metadata": {},
   "source": [
    "En zelfs interactieve plots (eventueel met verborgen code)!"
   ]
  },
  {
   "cell_type": "code",
   "execution_count": null,
   "metadata": {
    "tags": [
     "hide-input"
    ]
   },
   "outputs": [
    {
     "data": {
      "application/vnd.jupyter.widget-view+json": {
       "model_id": "77984e014dd0465ca9c5dc910a324d1f",
       "version_major": 2,
       "version_minor": 0
      },
      "text/plain": [
       "interactive(children=(FloatSlider(value=5.0, description='a', max=10.0), FloatSlider(value=5.0, description='b…"
      ]
     },
     "metadata": {},
     "output_type": "display_data"
    },
    {
     "data": {
      "text/plain": [
       "<function __main__.plot(a, b)>"
      ]
     },
     "execution_count": 7,
     "metadata": {},
     "output_type": "execute_result"
    }
   ],
   "source": [
    "import numpy as np\n",
    "import matplotlib.pyplot as plt\n",
    "from ipywidgets import interact\n",
    "\n",
    "def functie(t, a, b):\n",
    "    return a*np.sin(b*t)\n",
    "\n",
    "def plot(a,b):\n",
    "    U = functie(t, a, b)\n",
    "    plt.figure()\n",
    "    plt.plot(t, U, 'k.')\n",
    "    plt.xlim(0, 2*np.pi)\n",
    "    plt.ylim(-10, 10)\n",
    "    plt.xlabel('$t$(s)')\n",
    "    plt.ylabel('$U$(V)')\n",
    "    plt.show()\n",
    "\n",
    "t = np.linspace(0, 2*np.pi, 100)\n",
    "\n",
    "interact(plot, a=(0.0, 10.0), b=(0.0, 10.0))\n",
    "\n",
    "\n"
   ]
  },
  {
   "cell_type": "markdown",
   "metadata": {},
   "source": [
    "De basics van Python leggen we hier niet uit, het cursusmateriaal vind je wel terug in dit boek. We focussen nu even op het concept van een Jupyter Notebook (wat anders is dan een Jupyter Book!).\n",
    "\n",
    "Een Jupyter Notebook is een open-source interactieve omgeving waarin je tekst, code en uitvoer in dezelfde interface kunt combineren. Jupyter Notebooks zijn populair in onderwijs maar ook in datawetenschap, omdat ze analyses en visualisaties helder presenteren en samenwerking bevorderen. Het is voornamelijk bedoeld voor data-analyse, wetenschappelijk onderzoek en het maken van interactieve analyses. Enkele kernpunten zijn:\n",
    "\n",
    "-   **Code-uitvoering:** Je kunt code schrijven en uitvoeren in verschillende programmeertalen, zoals Python, R of Julia (Python is de meest voorkomende).\n",
    "-   **Markdown-ondersteuning:** Je kunt tekstcellen toevoegen om uitleg te geven of analyses te documenteren. Deze tekst ondersteunt opmaak via Markdown.\n",
    "-   **Uitvoer weergeven:** Resultaten van code, zoals tekst, tabellen, grafieken of interactieve widgets, worden direct onder de code weergegeven.\n",
    "-   **Interactief:** Gebruikers kunnen de volgorde van de code-uitvoering aanpassen en cellen herhaaldelijk uitvoeren om resultaten te testen of aan te passen.\n",
    "-   **Bestandsformaat:** Notebooks worden opgeslagen als .ipynb-bestanden, wat een JSON-structuur is, zodat ze gemakkelijk gedeeld of in versiebeheer geplaatst kunnen worden.\n",
    "\n"
   ]
  },
  {
   "cell_type": "markdown",
   "metadata": {},
   "source": []
  }
 ],
 "metadata": {
  "celltoolbar": "Tags",
  "kernelspec": {
   "display_name": "Python 3 (ipykernel)",
   "language": "python",
   "name": "python3"
  },
  "language_info": {
   "codemirror_mode": {
    "name": "ipython",
    "version": 3
   },
   "file_extension": ".py",
   "mimetype": "text/x-python",
   "name": "python",
   "nbconvert_exporter": "python",
   "pygments_lexer": "ipython3",
   "version": "3.10.14"
  }
 },
 "nbformat": 4,
 "nbformat_minor": 4
}
