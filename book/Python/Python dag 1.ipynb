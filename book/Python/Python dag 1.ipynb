{
 "cells": [
  {
   "cell_type": "markdown",
   "metadata": {},
   "source": [
    "# Python dag 1: De basics\n",
    "Welkom bij de Python cursus. Vandaag gaan we aan de slag met programmeren in de browser. Als het goed is weet je hoe dat moet... (bekijk anders even de [introductie](./Python_intro.ipynb)) \n",
    "\n",
    "## Leerdoelen\n",
    "- Werken met variabelen en types\n",
    "- Wiskundige bewerkingen\n",
    "- Libraries inladen en gebruiken\n",
    "- Functies\n",
    "- Plotten\n",
    "\n",
    "```{exercise}\n",
    "Run de cell hieronder.\n",
    "```"
   ]
  },
  {
   "cell_type": "code",
   "execution_count": null,
   "metadata": {},
   "outputs": [],
   "source": [
    "print('Hello, World!')"
   ]
  },
  {
   "cell_type": "markdown",
   "metadata": {},
   "source": [
    "## Variabelen, types en wiskundige bewerkingen\n",
    "Als je een beetje bekend bent met programmeren weet je al dat er verschillende variabele types zijn. Zo is er `int` voor de gehele getallen en `float` voor komma getallen. In sommige programma's moet je precies vertellen wat voor een variabele je wilt hebben, maar Python kan dat zelf goed bepalen. Met het commando `type` kun je precies zien wat voor een typesoort je variabele is.\n",
    "\n",
    "```{exercise}\n",
    "Run de cell hieronder en bekijk eens wat voor verschillende types de vijf aangemaakte variabelen zijn. Kende je al deze types?\n",
    "```\n"
   ]
  },
  {
   "cell_type": "code",
   "execution_count": null,
   "metadata": {},
   "outputs": [],
   "source": [
    "a = 1\n",
    "b = '2'\n",
    "c = 1.3\n",
    "d = True\n",
    "e = 'Ik ben een string'\n",
    "\n",
    "type(a)"
   ]
  },
  {
   "cell_type": "markdown",
   "metadata": {},
   "source": [
    "Variabele $b$ is misschien niet wat we verwacht hadden. Doordat de type een `string` is, kunnen we ook niet zo makkelijk wiskundige bewerkingen doen. \n",
    "\n",
    "```{exercise} \n",
    "Probeer maar eens (in de cell hierboven) `a + b` te printen. Leg uit waarom dat niet werkt.\n",
    "```\n",
    "\n",
    "Een van de mogelijkheden die we hebben is de types te converteren. `str(a)` verandert het type van `int` naar `str`. \n",
    "\n",
    "```{exercise}\n",
    "In de cell hierboven verander het type van variabele zodat `print(a+b)` de waarde 3 terug geeft.\n",
    "```\n",
    "\n",
    "In de bovenste code cell werd Hello world geprint. Met de print functie kunnen we nog meer:"
   ]
  },
  {
   "cell_type": "code",
   "execution_count": null,
   "metadata": {},
   "outputs": [],
   "source": [
    "print('Variabele a + b = ', a + int(b))"
   ]
  },
  {
   "cell_type": "markdown",
   "metadata": {},
   "source": [
    "```{exercise}\n",
    "Leg uit waarom de eerste $a$ en $b$ niet als getal geprint worden.\n",
    "```\n",
    "\n",
    "```{exercise}\n",
    "Wat gebeurt er wanneer je variabele $c$ converteert naar het type integer?\n",
    "```\n",
    "\n",
    "Wat wellicht opvalt is dat je op deze manier dus strings en wiskundige bewerkingen kunt samenvoegen. Wat niet direct opvalt, is dat er kennelijk sprake is van een geheugen. In de hele code cell hebben we niet gespecificeerd wat $a$ en $b$ zijn. Die zijn in het geheugen opgeslagen. Wil je in een keer weten welke variabelen er zijn opgeslagen in het geheugen, en van welk type deze variabelen zijn, kun je het commando `%whos` gebruiken:"
   ]
  },
  {
   "cell_type": "code",
   "execution_count": null,
   "metadata": {},
   "outputs": [],
   "source": [
    "%whos"
   ]
  },
  {
   "cell_type": "markdown",
   "metadata": {},
   "source": [
    "Nu we iets weten van de verschillende types kunnen we een voorspelling doen wat de uitkomst is van verschillende wiskundige bewerkingen.\n",
    "\n",
    "```{exercise}\n",
    "Voorspel wat de uitkomst is van onderstaande wiskundige bewerkingen. Bespreek de wiskundige bewerkingen die je niet begrijpt.\n",
    "```"
   ]
  },
  {
   "cell_type": "code",
   "execution_count": null,
   "metadata": {},
   "outputs": [],
   "source": [
    "a = 2.5\n",
    "b = 1.5\n",
    "c = 3\n",
    "d = 2\n",
    "e = 4j\n",
    "\n",
    "print(a+b)\n",
    "print(a*c)\n",
    "print(c**d)\n",
    "print(a+b/d)\n",
    "print(c%d)\n",
    "print(int(a)+int(b))\n",
    "print(int(a+b))\n",
    "print(d+e)"
   ]
  },
  {
   "cell_type": "markdown",
   "metadata": {},
   "source": [
    "Een data-type die we nog niet hebben gezien maar veel gebruikt wordt is de lijst. In een lijst kunnen we meer informatie (variabelen) opslaan. Die variabelen kunnen dan ook weer van verschillende type zijn.\n",
    "\n",
    "```{exercise}\n",
    "Bekijk de onderste lijst. Welke typen herken je? Controleer door de cell te runnen.\n",
    "```"
   ]
  },
  {
   "cell_type": "code",
   "execution_count": null,
   "metadata": {},
   "outputs": [],
   "source": [
    "Person_1 = ['Feek','Pols','Lorentzweg',1,'Delft']\n",
    "print(Person_1)\n",
    "print(type(Person_1), type(Person_1[0]), type(Person_1[3]))\n",
    "\n",
    "# Jouw aanpassing\n"
   ]
  },
  {
   "cell_type": "markdown",
   "metadata": {},
   "source": [
    "```{exercise}\n",
    "Er is een typefout geslopen in de voornaam van Person_1. Schrijf op regel 6 de code die deze fout herstelt (de persoon heet Freek).\n",
    "```\n",
    "\n",
    "```{exercise}\n",
    "Kijk naar onderstaande code, wat verwacht je dat er geprint wordt?\n",
    "```"
   ]
  },
  {
   "cell_type": "code",
   "execution_count": null,
   "metadata": {},
   "outputs": [],
   "source": [
    "a = [0,2,3]\n",
    "print(a*2)\n",
    "print(a[1]*2)"
   ]
  },
  {
   "cell_type": "markdown",
   "metadata": {},
   "source": [
    "## Numpy basics\n",
    "\n",
    "Om alles zelf te programmeren, is een enorme klus. We kunnen gelukkig veelal gebruik maken van code van anderen, opgeslagen in zogenaamde libraries. Een veel gebruikte library is NumPy (Numerical Python). Deze library biedt ondersteuning voor m.n. arrays (serie van getallen) en biedt een verzameling wiskundige functies om efficient met verschillende datastructuren te werken. \n",
    "\n",
    "In de vorige opdracht verwachte je misschien dat $a*2$ een lijst met de waarden [0 4 6] zou opleveren. Echter, de inhoud van lijst werd 2x geprint. Om welk de gewenste berekening te maken, kunnen we werken met numpy arrays. Daartoe moeten we eerst de numpy library inladen. "
   ]
  },
  {
   "cell_type": "code",
   "execution_count": null,
   "metadata": {},
   "outputs": [],
   "source": [
    "import numpy as np"
   ]
  },
  {
   "cell_type": "markdown",
   "metadata": {},
   "source": [
    "We definiëren nu een numpy array en doen de eerdere berekening:"
   ]
  },
  {
   "cell_type": "code",
   "execution_count": null,
   "metadata": {},
   "outputs": [],
   "source": [
    "a = np.array([0, 2, 3])\n",
    "print(a*2)"
   ]
  },
  {
   "cell_type": "markdown",
   "metadata": {},
   "source": [
    "Stel nu dat we een rij getallen willen maken van 0 tot 100 met stappen van 1, gaan we dan alle getallen opschrijven? Zeker niet, we kunnen ingebouwde numpy functies gebruiken:"
   ]
  },
  {
   "cell_type": "code",
   "execution_count": null,
   "metadata": {},
   "outputs": [],
   "source": [
    "array_1 = np.linspace(0,100,51)\n",
    "print(array_1)\n",
    "array_2 = np.arange(0,101,1)\n",
    "print(array_2)  "
   ]
  },
  {
   "cell_type": "markdown",
   "metadata": {},
   "source": [
    "np.linspace(0,100,51) maakt een rij aan die start bij 0, eindigt bij 100 waarbij die ruimte verdeeld wordt over 51 stukjes. \n",
    "\n",
    "np.arange(0,101,1) maakt een rij aan die start bij 0, eindigt bij 100 met stapjes met een stapgrootte van 1.\n",
    "\n",
    "\n",
    "Omdat de computer begint te tellen met 0, is het verstandig om altijd even te kijken naar de rij die je gemaakt hebt om te controleren of de stapgrootte overeenkomt met wat je wilt.\n",
    "\n",
    "```{exercise}\n",
    "1) Maak een array van 0 t/m 100 met alleen de even getallen.\n",
    "2) Maak een array van 100 t/m 1, dus [100, 99, .., 1]\n",
    "```"
   ]
  },
  {
   "cell_type": "code",
   "execution_count": null,
   "metadata": {},
   "outputs": [],
   "source": [
    "# Jouw code\n"
   ]
  },
  {
   "cell_type": "markdown",
   "metadata": {},
   "source": [
    "Op de website van Numpy vind je [documentatie](https://numpy.org/doc/stable/index.html) over alle mogelijke functies, dat zijn er nogal wat! Het is goed om bij vragen de documentatie te raadplegen. Hieronder een exercise om daar eens naar te kijken.\n",
    "\n",
    "```{exercise}\n",
    "Bereken van de onderstaande array de gemiddelde waarde en de standaard deviatie met behulp van de numpy functie.\n",
    "```"
   ]
  },
  {
   "cell_type": "code",
   "execution_count": null,
   "metadata": {},
   "outputs": [],
   "source": [
    "exercise_array = np.random.uniform(-10,10,100)\n",
    "# Jouw code"
   ]
  },
  {
   "cell_type": "markdown",
   "metadata": {},
   "source": [
    "```{exercise}\n",
    "Hieronder staan twee numpy arrays, de een met even getallen, de ander met oneven getallen. Voeg de twee arrays samen en sorteer ze zodat je een array krijgt met de getallen 0 t/m 100. Gebruik de numpy functie concatenate en sort.\n",
    "```"
   ]
  },
  {
   "cell_type": "code",
   "execution_count": 11,
   "metadata": {},
   "outputs": [],
   "source": [
    "even = np.arange(0,101,2)\n",
    "oneven = np.arange(1,101,2)\n"
   ]
  },
  {
   "cell_type": "code",
   "execution_count": null,
   "metadata": {},
   "outputs": [],
   "source": []
  }
 ],
 "metadata": {
  "kernelspec": {
   "display_name": "base",
   "language": "python",
   "name": "python3"
  },
  "language_info": {
   "codemirror_mode": {
    "name": "ipython",
    "version": 3
   },
   "file_extension": ".py",
   "mimetype": "text/x-python",
   "name": "python",
   "nbconvert_exporter": "python",
   "pygments_lexer": "ipython3",
   "version": "3.10.14"
  }
 },
 "nbformat": 4,
 "nbformat_minor": 2
}
