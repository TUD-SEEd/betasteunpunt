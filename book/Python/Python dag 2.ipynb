{
 "cells": [
  {
   "cell_type": "markdown",
   "metadata": {},
   "source": [
    "# Python: Iets meer basics\n",
    "\n",
    "Nu je iets weet van data-types, numpy en plotten, is het tijd voor de volgende stap... programmeren in Python.\n",
    "\n",
    "## Leerdoelen\n",
    "- functies\n",
    "- conditionals\n",
    "- loops\n",
    "- load / save data & plots\n",
    "- ..."
   ]
  },
  {
   "cell_type": "markdown",
   "metadata": {},
   "source": [
    "## Functies\n",
    "\n",
    "In programmeren wil je vaak gebruik maken van het zelfde stukje code, maar dan misschien met anderen waarden. Het is dan niet handig om steeds dezelfde code te moeten typen... je kunt gebruik maken van functies.\n",
    "\n",
    "<div style=\"width:75%; margin:0 auto;\">\n",
    "    <iframe width=\"600\" height=\"450\" src=\"https://www.youtube.com/embed/9Os0o3wzS_I\" title=\"Python Tutorial for Beginners 8: Functions\" frameborder=\"0\" allow=\"accelerometer; autoplay; clipboard-write; encrypted-media; gyroscope; picture-in-picture; web-share\" referrerpolicy=\"strict-origin-when-cross-origin\" allowfullscreen></iframe>\n",
    "</div>\n",
    "\n",
    "```{exercise}\n",
    "Bekijk de onderstaande code. Hoe is hier handig gebruik gemaakt van een functie?\n",
    "```"
   ]
  },
  {
   "cell_type": "code",
   "execution_count": null,
   "metadata": {},
   "outputs": [],
   "source": [
    "import numpy as np\n",
    "import matplotlib.pyplot as plt\n",
    "\n",
    "def functie(x,a,b):\n",
    "    return a*x+b\n",
    "\n",
    "x = np.linspace(0,10,100)\n",
    "\n",
    "plt.figure()\n",
    "plt.xlabel('$x$')\n",
    "plt.ylabel('$f(x)$')\n",
    "\n",
    "plt.plot(x,functie(x,2,3),label='$f(x)=2x+3$')\n",
    "plt.plot(x,functie(x,3,2),label='$f(x)=3x+2$')\n",
    "\n",
    "plt.legend()\n",
    "plt.show()"
   ]
  },
  {
   "cell_type": "markdown",
   "metadata": {},
   "source": [
    "Bovenstaande code maakt gebruik van een functie met drie input variabelen (x, a en b). \n",
    "```{code}\n",
    "def functie(x,a,b):\n",
    "    return a*x+b\n",
    "```\n",
    "Die drie variabelen bestaan alleen in de functie. Het zijn zogenaamde ['local variables'](https://www.geeksforgeeks.org/global-local-variables-python/). Bekijk onderstaande code maar eens:\n"
   ]
  },
  {
   "cell_type": "code",
   "execution_count": null,
   "metadata": {},
   "outputs": [],
   "source": [
    "def f():\n",
    "    s = 'Ik ben een lokale variabele'\n",
    "    print(s)\n",
    "\n",
    "print(s)"
   ]
  },
  {
   "cell_type": "markdown",
   "metadata": {},
   "source": [
    "Bij het uitvoeren van bovenstaande cell wordt er een error terug gegeven, $s$ bestaat namelijk alleen binnen de functie $f()$.\n",
    "\n",
    "```{exercise}\n",
    "Maak een functie genaamd som, die de som van twee waarden terug geeft.\n",
    "```"
   ]
  },
  {
   "cell_type": "code",
   "execution_count": null,
   "metadata": {},
   "outputs": [],
   "source": [
    "# Jouw code"
   ]
  },
  {
   "cell_type": "markdown",
   "metadata": {},
   "source": [
    "```{exercise}\n",
    "\n",
    "Maak een array: arr = np.array([10, 20, 30, 40, 50]).\n",
    "\n",
    "Schrijf een functie genaamd edit_array met de volgende parameters:\n",
    "- array (de originele array)\n",
    "- indices_to_remove (een lijst met indexen van elementen die verwijderd moeten worden)\n",
    "- elements_to_add (een lijst met elementen die aan het einde van de array moeten worden toegevoegd)\n",
    "\n",
    "Laat de functie:\n",
    "- De opgegeven elementen verwijderen met np.delete.\n",
    "- De opgegeven elementen toevoegen met np.append.\n",
    "- De bewerkte array teruggeven.\n",
    "\n",
    "Roep de functie aan met:\n",
    "- indices_to_remove = [1, 3] (verwijder elementen op index 1 en 3: 20 en 40).\n",
    "- elements_to_add = [60, 70] (voeg 60 en 70 toe).\n",
    "\n",
    "Print de resulterende array.\n",
    "```"
   ]
  },
  {
   "cell_type": "code",
   "execution_count": null,
   "metadata": {},
   "outputs": [],
   "source": [
    "# jouw code"
   ]
  },
  {
   "cell_type": "markdown",
   "metadata": {},
   "source": [
    "# Conditionals\n",
    "\n",
    "Conditionals (voorwaardelijke statements) in Python worden gebruikt om beslissingen te nemen in je code. Met conditionals kun je een specifieke actie uitvoeren als een bepaalde voorwaarde waar is. Dit wordt vaak gedaan met de `if-**statement**` en bijbehorende varianten zoals `elif` en `else`.\n",
    "\n",
    "Het basisidee van een if-statement is simpel:\n",
    "- Controleer of een voorwaarde waar is (bijvoorbeeld: \"Is het getal groter dan 10?\").\n",
    "- Als dat zo is, voer dan een specifieke code uit.\n",
    "\n",
    "```{code} python\n",
    "x = 15\n",
    "\n",
    "if x > 10:\n",
    "    print(\"x is groter dan 10\")\n",
    "```\n",
    "\n",
    "* Python controleert de voorwaarde x > 10.\n",
    "* Omdat dit waar is (15 is groter dan 10), wordt de regel binnen de if uitgevoerd, en zie je de tekst: x is groter dan 10."
   ]
  },
  {
   "cell_type": "code",
   "execution_count": null,
   "metadata": {},
   "outputs": [],
   "source": [
    "x = 15\n",
    "\n",
    "if x > 10:\n",
    "    print(\"x is groter dan 10\")\n"
   ]
  },
  {
   "cell_type": "markdown",
   "metadata": {},
   "source": [
    "Soms wil je meerdere voorwaarden controleren. Daarvoor kun je `elif` en `else` gebruiken:\n",
    "- `elif`: Dit staat voor \"else if\" en wordt gebruikt om extra voorwaarden toe te voegen.\n",
    "- `else`: Dit wordt uitgevoerd als geen van de bovenstaande voorwaarden waar is.\n",
    "\n",
    "```{note}\n",
    "Let op inspringingen (indentation): In Python bepaalt de inspringing welke code bij een bepaalde conditie hoort. Gebruik 4 spaties of een tab.\n",
    "```"
   ]
  },
  {
   "cell_type": "code",
   "execution_count": null,
   "metadata": {},
   "outputs": [],
   "source": [
    "x = 15\n",
    "\n",
    "if x > 20:\n",
    "    print(\"x is groter dan 20\")\n",
    "elif x > 10:\n",
    "    print(\"x is tussen 11 en 20\")\n",
    "else:\n",
    "    print(\"x is 10 of kleiner\")\n"
   ]
  },
  {
   "cell_type": "markdown",
   "metadata": {},
   "source": [
    "Je kunt ook meerdere voorwaarden combineren met and, or en not:\n",
    "- `and`: Beide voorwaarden moeten waar zijn.\n",
    "- `or`: Eén van de voorwaarden moet waar zijn.\n",
    "- `not`: Keert de voorwaarde om. "
   ]
  },
  {
   "cell_type": "code",
   "execution_count": null,
   "metadata": {},
   "outputs": [],
   "source": [
    "x = 15\n",
    "y = 5\n",
    "\n",
    "if x > 10 and y > 10:\n",
    "    print(\"x en y zijn beide groter dan 10\")\n",
    "elif x > 10 or y > 10:\n",
    "    print(\"x of y is groter dan 10\")\n",
    "else:\n",
    "    print(\"Geen van beide is groter dan 10\")\n"
   ]
  },
  {
   "cell_type": "markdown",
   "metadata": {},
   "source": [
    "```{exercise}\n",
    "In een bar wordt limonade, bier en wodka verkocht. Limonade mag gekocht worden door iedereen. Bier voor mensen boven de 18 en wodka alleen boven de 21. \n",
    "\n",
    "Schrijf de code die terug geeft of het product verkocht mag worden. Maak gebruik van een functie, met de inputvariabele `drankje` en `leeftijd`.\n",
    "```"
   ]
  },
  {
   "cell_type": "code",
   "execution_count": null,
   "metadata": {},
   "outputs": [],
   "source": [
    "# jouw code\n"
   ]
  },
  {
   "cell_type": "markdown",
   "metadata": {},
   "source": [
    "## Loop\n",
    "\n",
    "### For-loop\n",
    "\n",
    "### While-loop"
   ]
  },
  {
   "cell_type": "markdown",
   "metadata": {},
   "source": []
  }
 ],
 "metadata": {
  "kernelspec": {
   "display_name": "base",
   "language": "python",
   "name": "python3"
  },
  "language_info": {
   "codemirror_mode": {
    "name": "ipython",
    "version": 3
   },
   "file_extension": ".py",
   "mimetype": "text/x-python",
   "name": "python",
   "nbconvert_exporter": "python",
   "pygments_lexer": "ipython3",
   "version": "3.10.14"
  }
 },
 "nbformat": 4,
 "nbformat_minor": 2
}
