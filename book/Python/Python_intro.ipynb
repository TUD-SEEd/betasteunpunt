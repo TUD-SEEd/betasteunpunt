{
 "cells": [
  {
   "cell_type": "markdown",
   "metadata": {},
   "source": [
    "# Python introductie\n",
    "\n",
    "Welkom bij deze Python cursus. In de cursus leer je de basics van Python en zou je in staat moeten zijn leerlingen te begeleiden die met Python bezig zijn in de les. In [Programma](./Programma.md) vind je het (beoogde) overzicht van de verschillende dagen. Het materiaal is zo geschreven dat je zelf aan de slag kunt met het materiaal, ook buiten de cursusuren.\n",
    "\n",
    "Om aan de slag te gaan met Python programmeren, hoef je nu nog niets te installeren. We kunnen - voor eenvoudige Python scripts - aan de slag met programmeren in de browser. \n",
    "\n",
    "```{exercise}\n",
    "Probeer het maar eens: druk de {fa}`rocket` rechtsboven in je scherm en wacht tot alles geladen is. Druk vervolgens op run voor de onderstaande cell en kijk wat er gebeurt. \n",
    "\n",
    "Probeer eens de code aan te passen, voorspel wat er zal gebeuren.\n",
    "```"
   ]
  },
  {
   "cell_type": "code",
   "execution_count": null,
   "metadata": {},
   "outputs": [],
   "source": [
    "a = 2 \n",
    "b = 3\n",
    "print(a + b)"
   ]
  },
  {
   "cell_type": "markdown",
   "metadata": {},
   "source": [
    "Zo ver de introductie... op naar [dag 1](./Python%20dag%201.ipynb)"
   ]
  }
 ],
 "metadata": {
  "language_info": {
   "name": "python"
  }
 },
 "nbformat": 4,
 "nbformat_minor": 2
}
